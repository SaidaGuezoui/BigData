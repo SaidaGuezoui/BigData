{
 "cells": [
  {
   "cell_type": "markdown",
   "id": "e4a99820",
   "metadata": {},
   "source": [
    "<h1 style=\"color: navy bleu;text-align:center\">  M2 MAS DS- Compte rendu du Tp introductif en Big Data  "
   ]
  },
  {
   "cell_type": "markdown",
   "id": "54690636",
   "metadata": {},
   "source": [
    "<h2 style=\"color: navy bleu\"> Saïda Guezoui, groupe DS </h2>"
   ]
  },
  {
   "cell_type": "markdown",
   "id": "67d9303d",
   "metadata": {},
   "source": [
    "<h2 style=\"color: navy bleu\"> I. Introduction  "
   ]
  },
  {
   "cell_type": "markdown",
   "id": "ba713f55",
   "metadata": {},
   "source": [
    "La data science prend aujourd'hui une place importante dans le marché des entreprises et c'est un domaine très vaste où on retrouve plusieurs techniques comme le Bootstrap, une technique qui est utilisée par exemple dans le cas où nous n'avons pas beaucoup de données. \n",
    "\n",
    "Le bootstrap est un algorithme permettant l'obtention de plusieurs échantillons à partir de notre échantillon origine. Cet algorithme consiste à faire un ré-echantillonage avec remise d'un jeu de donnée pour avoir des échantillons statistiques qui ont la même taille que notre échantillon initial. \n",
    "\n",
    "Bien que le bootstrap ne requiert pas que les données suivent une distribution statistique précise, cela\n",
    "ne signifie pas que la méthode ne fait aucune supposition. En particulier, le ré-échantillonnage doit être\n",
    "représentatif de la façon dont l’échantillon original a été obtenu. \n",
    "\n",
    "Il existe deux types de bootstrap, paramétrique et non paramétrique."
   ]
  },
  {
   "cell_type": "markdown",
   "id": "6f8ee58e",
   "metadata": {},
   "source": [
    "<h3 style=\"color: navy bleu\"> Importation des bibliothèques nécessaires "
   ]
  },
  {
   "cell_type": "markdown",
   "id": "a4fd50ca",
   "metadata": {},
   "source": [
    "Nous allons commencer par importer les bibliothèques nécessaires : "
   ]
  },
  {
   "cell_type": "code",
   "execution_count": 154,
   "id": "4b2eba82",
   "metadata": {},
   "outputs": [],
   "source": [
    "import numpy as np \n",
    "import pandas as pd\n",
    "import matplotlib.pyplot as plt\n",
    "from sklearn.linear_model import LogisticRegression\n",
    "from sklearn.linear_model import LinearRegression\n",
    "import seaborn as sns\n",
    "from scipy.stats import norm"
   ]
  },
  {
   "cell_type": "markdown",
   "id": "c7ab04d5",
   "metadata": {},
   "source": [
    "<h2 style=\"color: navy bleu\"> II. Etude du jeu de donnée \"student_score\""
   ]
  },
  {
   "cell_type": "markdown",
   "id": "f9bb34e7",
   "metadata": {},
   "source": [
    "Dans cette partie, nous allons étudier le jeu de données \"student_score\" pour estimer le paramètre $\\theta$ et découvrir l'algorithme du Bootstrap. "
   ]
  },
  {
   "cell_type": "markdown",
   "id": "2eb6ef01",
   "metadata": {},
   "source": [
    "<h3 style=\"color: navy bleu\"> A. Importation du jeu de données et calcul de la matrice de correlation "
   ]
  },
  {
   "cell_type": "code",
   "execution_count": 155,
   "id": "6ff697d3",
   "metadata": {},
   "outputs": [
    {
     "data": {
      "text/html": [
       "<div>\n",
       "<style scoped>\n",
       "    .dataframe tbody tr th:only-of-type {\n",
       "        vertical-align: middle;\n",
       "    }\n",
       "\n",
       "    .dataframe tbody tr th {\n",
       "        vertical-align: top;\n",
       "    }\n",
       "\n",
       "    .dataframe thead th {\n",
       "        text-align: right;\n",
       "    }\n",
       "</style>\n",
       "<table border=\"1\" class=\"dataframe\">\n",
       "  <thead>\n",
       "    <tr style=\"text-align: right;\">\n",
       "      <th></th>\n",
       "      <th>mech</th>\n",
       "      <th>vecs</th>\n",
       "      <th>alg</th>\n",
       "      <th>analy</th>\n",
       "      <th>stat</th>\n",
       "    </tr>\n",
       "  </thead>\n",
       "  <tbody>\n",
       "    <tr>\n",
       "      <th>1</th>\n",
       "      <td>7.0</td>\n",
       "      <td>51.0</td>\n",
       "      <td>43.0</td>\n",
       "      <td>17.0</td>\n",
       "      <td>22.0</td>\n",
       "    </tr>\n",
       "    <tr>\n",
       "      <th>2</th>\n",
       "      <td>44.0</td>\n",
       "      <td>69.0</td>\n",
       "      <td>53.0</td>\n",
       "      <td>53.0</td>\n",
       "      <td>53.0</td>\n",
       "    </tr>\n",
       "    <tr>\n",
       "      <th>3</th>\n",
       "      <td>49.0</td>\n",
       "      <td>41.0</td>\n",
       "      <td>61.0</td>\n",
       "      <td>49.0</td>\n",
       "      <td>64.0</td>\n",
       "    </tr>\n",
       "    <tr>\n",
       "      <th>4</th>\n",
       "      <td>59.0</td>\n",
       "      <td>70.0</td>\n",
       "      <td>68.0</td>\n",
       "      <td>62.0</td>\n",
       "      <td>56.0</td>\n",
       "    </tr>\n",
       "    <tr>\n",
       "      <th>5</th>\n",
       "      <td>34.0</td>\n",
       "      <td>42.0</td>\n",
       "      <td>50.0</td>\n",
       "      <td>47.0</td>\n",
       "      <td>29.0</td>\n",
       "    </tr>\n",
       "    <tr>\n",
       "      <th>6</th>\n",
       "      <td>46.0</td>\n",
       "      <td>40.0</td>\n",
       "      <td>47.0</td>\n",
       "      <td>29.0</td>\n",
       "      <td>17.0</td>\n",
       "    </tr>\n",
       "    <tr>\n",
       "      <th>7</th>\n",
       "      <td>0.0</td>\n",
       "      <td>40.0</td>\n",
       "      <td>21.0</td>\n",
       "      <td>9.0</td>\n",
       "      <td>14.0</td>\n",
       "    </tr>\n",
       "    <tr>\n",
       "      <th>8</th>\n",
       "      <td>32.0</td>\n",
       "      <td>45.0</td>\n",
       "      <td>49.0</td>\n",
       "      <td>57.0</td>\n",
       "      <td>64.0</td>\n",
       "    </tr>\n",
       "    <tr>\n",
       "      <th>9</th>\n",
       "      <td>49.0</td>\n",
       "      <td>57.0</td>\n",
       "      <td>47.0</td>\n",
       "      <td>39.0</td>\n",
       "      <td>26.0</td>\n",
       "    </tr>\n",
       "    <tr>\n",
       "      <th>10</th>\n",
       "      <td>52.0</td>\n",
       "      <td>64.0</td>\n",
       "      <td>60.0</td>\n",
       "      <td>63.0</td>\n",
       "      <td>54.0</td>\n",
       "    </tr>\n",
       "    <tr>\n",
       "      <th>11</th>\n",
       "      <td>44.0</td>\n",
       "      <td>61.0</td>\n",
       "      <td>52.0</td>\n",
       "      <td>62.0</td>\n",
       "      <td>46.0</td>\n",
       "    </tr>\n",
       "    <tr>\n",
       "      <th>12</th>\n",
       "      <td>36.0</td>\n",
       "      <td>59.0</td>\n",
       "      <td>51.0</td>\n",
       "      <td>45.0</td>\n",
       "      <td>51.0</td>\n",
       "    </tr>\n",
       "    <tr>\n",
       "      <th>13</th>\n",
       "      <td>42.0</td>\n",
       "      <td>60.0</td>\n",
       "      <td>54.0</td>\n",
       "      <td>49.0</td>\n",
       "      <td>33.0</td>\n",
       "    </tr>\n",
       "    <tr>\n",
       "      <th>14</th>\n",
       "      <td>5.0</td>\n",
       "      <td>30.0</td>\n",
       "      <td>44.0</td>\n",
       "      <td>36.0</td>\n",
       "      <td>18.0</td>\n",
       "    </tr>\n",
       "    <tr>\n",
       "      <th>15</th>\n",
       "      <td>22.0</td>\n",
       "      <td>58.0</td>\n",
       "      <td>53.0</td>\n",
       "      <td>56.0</td>\n",
       "      <td>41.0</td>\n",
       "    </tr>\n",
       "    <tr>\n",
       "      <th>16</th>\n",
       "      <td>18.0</td>\n",
       "      <td>51.0</td>\n",
       "      <td>40.0</td>\n",
       "      <td>56.0</td>\n",
       "      <td>30.0</td>\n",
       "    </tr>\n",
       "    <tr>\n",
       "      <th>17</th>\n",
       "      <td>41.0</td>\n",
       "      <td>63.0</td>\n",
       "      <td>49.0</td>\n",
       "      <td>46.0</td>\n",
       "      <td>34.0</td>\n",
       "    </tr>\n",
       "    <tr>\n",
       "      <th>18</th>\n",
       "      <td>48.0</td>\n",
       "      <td>38.0</td>\n",
       "      <td>41.0</td>\n",
       "      <td>44.0</td>\n",
       "      <td>33.0</td>\n",
       "    </tr>\n",
       "    <tr>\n",
       "      <th>19</th>\n",
       "      <td>31.0</td>\n",
       "      <td>42.0</td>\n",
       "      <td>48.0</td>\n",
       "      <td>54.0</td>\n",
       "      <td>68.0</td>\n",
       "    </tr>\n",
       "    <tr>\n",
       "      <th>20</th>\n",
       "      <td>42.0</td>\n",
       "      <td>69.0</td>\n",
       "      <td>61.0</td>\n",
       "      <td>55.0</td>\n",
       "      <td>45.0</td>\n",
       "    </tr>\n",
       "    <tr>\n",
       "      <th>21</th>\n",
       "      <td>46.0</td>\n",
       "      <td>49.0</td>\n",
       "      <td>53.0</td>\n",
       "      <td>59.0</td>\n",
       "      <td>37.0</td>\n",
       "    </tr>\n",
       "    <tr>\n",
       "      <th>22</th>\n",
       "      <td>63.0</td>\n",
       "      <td>63.0</td>\n",
       "      <td>65.0</td>\n",
       "      <td>70.0</td>\n",
       "      <td>63.0</td>\n",
       "    </tr>\n",
       "  </tbody>\n",
       "</table>\n",
       "</div>"
      ],
      "text/plain": [
       "    mech  vecs   alg  analy  stat\n",
       "1    7.0  51.0  43.0   17.0  22.0\n",
       "2   44.0  69.0  53.0   53.0  53.0\n",
       "3   49.0  41.0  61.0   49.0  64.0\n",
       "4   59.0  70.0  68.0   62.0  56.0\n",
       "5   34.0  42.0  50.0   47.0  29.0\n",
       "6   46.0  40.0  47.0   29.0  17.0\n",
       "7    0.0  40.0  21.0    9.0  14.0\n",
       "8   32.0  45.0  49.0   57.0  64.0\n",
       "9   49.0  57.0  47.0   39.0  26.0\n",
       "10  52.0  64.0  60.0   63.0  54.0\n",
       "11  44.0  61.0  52.0   62.0  46.0\n",
       "12  36.0  59.0  51.0   45.0  51.0\n",
       "13  42.0  60.0  54.0   49.0  33.0\n",
       "14   5.0  30.0  44.0   36.0  18.0\n",
       "15  22.0  58.0  53.0   56.0  41.0\n",
       "16  18.0  51.0  40.0   56.0  30.0\n",
       "17  41.0  63.0  49.0   46.0  34.0\n",
       "18  48.0  38.0  41.0   44.0  33.0\n",
       "19  31.0  42.0  48.0   54.0  68.0\n",
       "20  42.0  69.0  61.0   55.0  45.0\n",
       "21  46.0  49.0  53.0   59.0  37.0\n",
       "22  63.0  63.0  65.0   70.0  63.0"
      ]
     },
     "execution_count": 155,
     "metadata": {},
     "output_type": "execute_result"
    }
   ],
   "source": [
    "# Importation des données du fichier txt\n",
    "score = np.genfromtxt(fname = \"student_score.txt\")\n",
    "\n",
    "# Création d'un DataFrame\n",
    "score_student  = pd.DataFrame(score,columns = ['mech' , 'vecs', 'alg', 'analy', 'stat'])\n",
    "\n",
    "# On supprime la première ligne qui ne contient que des NaN\n",
    "score_student = score_student.drop(score_student.index[0])\n",
    "\n",
    "score_student"
   ]
  },
  {
   "cell_type": "code",
   "execution_count": 156,
   "id": "0254d3a3",
   "metadata": {},
   "outputs": [
    {
     "name": "stdout",
     "output_type": "stream",
     "text": [
      "\n",
      " Matrice de corellation :\n"
     ]
    },
    {
     "data": {
      "text/plain": [
       "<AxesSubplot:>"
      ]
     },
     "execution_count": 156,
     "metadata": {},
     "output_type": "execute_result"
    },
    {
     "data": {
      "image/png": "[encoded data removed]",
      "text/plain": [
       "<Figure size 432x288 with 2 Axes>"
      ]
     },
     "metadata": {
      "needs_background": "light"
     },
     "output_type": "display_data"
    }
   ],
   "source": [
    "# Calcul des correlations entre les variables\n",
    "\n",
    "correlation = score_student.corr()\n",
    "print(\"\\n Matrice de corellation :\")\n",
    "sns.heatmap(data = correlation, annot=True)"
   ]
  },
  {
   "cell_type": "markdown",
   "id": "9951bd35",
   "metadata": {},
   "source": [
    "La matrice de corrélation montre que les deux variables des 3 couples : (\"alg\",\"mech\"),(\"analy\" ,\"alg\") et (\"analy\",\"stat\") sont fortement corrélées positivement avec des coefficients de corrélation entre 0.74 et 0.76.  "
   ]
  },
  {
   "cell_type": "markdown",
   "id": "556ff638",
   "metadata": {},
   "source": [
    "<h3 style=\"color: navy bleu\"> B. Estimation du paramètre $\\theta$ "
   ]
  },
  {
   "cell_type": "markdown",
   "id": "494804a8",
   "metadata": {},
   "source": [
    "Maintenant, nous allons calculer la valeur estimée de $\\theta$ avec la formule suivante : \n",
    "    $$\\theta = \\frac{\\lambda_{max}}{sum(\\lambda)}$$"
   ]
  },
  {
   "cell_type": "code",
   "execution_count": 157,
   "id": "613d92ba",
   "metadata": {},
   "outputs": [
    {
     "name": "stdout",
     "output_type": "stream",
     "text": [
      "Theta =  0.6925353153076885\n"
     ]
    }
   ],
   "source": [
    "# Calcul des valeurs et vecteurs propres de la matrice des corrélations\n",
    "v, vp = np.linalg.eig(correlation)\n",
    "\n",
    "# Calcul de Theta\n",
    "theta = max(v)/ sum(v)\n",
    "print(\"Theta = \", theta)"
   ]
  },
  {
   "cell_type": "markdown",
   "id": "2f5db0b8",
   "metadata": {},
   "source": [
    "La valeur de $\\theta$ estimée est d'environ 0.7"
   ]
  },
  {
   "cell_type": "markdown",
   "id": "71b47ca4",
   "metadata": {},
   "source": [
    "<h3 style=\"color: navy bleu\">  C. Définition de la fonction boostrap "
   ]
  },
  {
   "cell_type": "markdown",
   "id": "5357fd9f",
   "metadata": {},
   "source": [
    "Nous définissons la fonction boostrap comme une fonction qui prend en paramètre un data donné et un nombre B fixé à 2000 dans cette partie. \n",
    "On cherche à obtenir les valeurs de notre vecteur $\\hat{\\theta} $, nous faisons donc un ré-echantillage avec remise sur notre jeu de données, puis sur la matrice de correlation. Ensuite, nous appliquons la formule de $\\theta$ suivante pour avoir notre liste des $\\hat{\\theta}$ : \n",
    "\n",
    "$$\\theta = \\frac{\\lambda_{max}}{sum(\\lambda)}$$\n",
    "\n",
    "Avec $\\lambda_{max}$ est la valeur propre maximale. En appliquant cette fonction au jeu de données \"score_student\", nous obtenons alors un vecteur de $\\hat{\\theta}$ de taille 2000."
   ]
  },
  {
   "cell_type": "code",
   "execution_count": 158,
   "id": "819ef915",
   "metadata": {},
   "outputs": [],
   "source": [
    "def boostrap(data,B):\n",
    "    theta_list = []\n",
    "    \n",
    "    for _ in range(B):\n",
    "        \n",
    "        sample = data.sample(n = len(data.index), replace = True) \n",
    "        \n",
    "        correlation = sample.corr()\n",
    "\n",
    "        eigenvalue, eigenvector = np.linalg.eig(correlation)\n",
    "        \n",
    "        theta = max(eigenvalue)/sum(eigenvalue)\n",
    "        theta_list.append(theta)\n",
    "        \n",
    "    return theta_list\n",
    "\n",
    "theta_list = boostrap(score_student,B = 2000)\n"
   ]
  },
  {
   "cell_type": "markdown",
   "id": "39ed4d3a",
   "metadata": {},
   "source": [
    "<h3 style=\"color: navy bleu\">  D. Représentation sous forme d'histogramme "
   ]
  },
  {
   "cell_type": "code",
   "execution_count": 231,
   "id": "6c763f3d",
   "metadata": {},
   "outputs": [
    {
     "name": "stdout",
     "output_type": "stream",
     "text": [
      "2000\n"
     ]
    },
    {
     "data": {
      "text/plain": [
       "<matplotlib.lines.Line2D at 0x2862cfcf160>"
      ]
     },
     "execution_count": 231,
     "metadata": {},
     "output_type": "execute_result"
    },
    {
     "data": {
      "image/png": "[encoded data removed]",
      "text/plain": [
       "<Figure size 432x288 with 1 Axes>"
      ]
     },
     "metadata": {
      "needs_background": "light"
     },
     "output_type": "display_data"
    }
   ],
   "source": [
    "plt.hist(theta_list,  bins = 50)\n",
    "print(np.size(theta_list))\n",
    "plt.axvline(x = theta, c = 'red')"
   ]
  },
  {
   "cell_type": "markdown",
   "id": "d101d66b",
   "metadata": {},
   "source": [
    "Dans l'histograme ci-dessus, on retrouve la valeur de $\\theta$ estimée en ligne rouge et les autres valeurs trouvées grâce au bootstrap réparties entre environ 0.3 et 0.88. "
   ]
  },
  {
   "cell_type": "markdown",
   "id": "fccd6d0b",
   "metadata": {},
   "source": [
    "<h3 style=\"color: navy bleu\">  E. L'erreur standard "
   ]
  },
  {
   "cell_type": "code",
   "execution_count": 160,
   "id": "db4d81e3",
   "metadata": {},
   "outputs": [
    {
     "data": {
      "text/plain": [
       "0.07546539419473271"
      ]
     },
     "execution_count": 160,
     "metadata": {},
     "output_type": "execute_result"
    }
   ],
   "source": [
    "std = np.std(theta_list)\n",
    "std"
   ]
  },
  {
   "cell_type": "markdown",
   "id": "0a7e8589",
   "metadata": {},
   "source": [
    "L'erreur standard trouvée est d'environ 0.08"
   ]
  },
  {
   "cell_type": "markdown",
   "id": "18c70b3b",
   "metadata": {},
   "source": [
    "<h3 style=\"color: navy bleu\">  F. Intervalle de confiance "
   ]
  },
  {
   "cell_type": "markdown",
   "id": "1ba62c37",
   "metadata": {},
   "source": [
    "Considérons un niveau de confiance de 5%. On définit l'intervalle de confiance ainsi : \n",
    "\n",
    "$$\\theta \\in \\left[\\hat{\\theta} - sd * \\Phi^{-1}(1-\\frac{\\alpha}{2}), \\hat{\\theta} +sd * \\Phi^{-1}(1-\\frac{\\alpha}{2})\\right] $$\n",
    "\n",
    "Avec sd est l'erreur standard et $\\Phi^{-1}(1-\\frac{\\alpha}{2})$ est le quantile d'ordre $1-\\frac{\\alpha}{2}$ de la loi normale centrée réduite."
   ]
  },
  {
   "cell_type": "code",
   "execution_count": 161,
   "id": "e9e0165b",
   "metadata": {},
   "outputs": [
    {
     "name": "stdout",
     "output_type": "stream",
     "text": [
      "[0.5446258606068943, 0.8404447700084827]\n",
      "0.6925353153076885\n"
     ]
    }
   ],
   "source": [
    "quantile = norm.ppf(0.975,0,1)\n",
    "Ic_inf = theta - std * quantile\n",
    "Ic_sup = theta + std * quantile\n",
    "Ic = [Ic_inf,Ic_sup]\n",
    "print(Ic)\n",
    "print(theta)"
   ]
  },
  {
   "cell_type": "markdown",
   "id": "150d4ec0",
   "metadata": {},
   "source": [
    "L'intervalle de confiance trouvé est : $[0.54, 0.84]$. On peut donc être sur à 95% que $\\theta$ se trouve environ entre 0.54 et 0.84.  "
   ]
  },
  {
   "cell_type": "markdown",
   "id": "b6ae5c76",
   "metadata": {},
   "source": [
    "<h2 style=\"color: navy bleu\"> III. Etude du jeu de données \"diabete\""
   ]
  },
  {
   "cell_type": "markdown",
   "id": "3db4ce77",
   "metadata": {},
   "source": [
    "Dans cette partie, on s'intéresse au jeu de données \"diabete\" contenant des informations sur diabète des indiennes Pima. Nous cherchons à prédire la survenue du diabète à l'aide de la régression logistique en utilisant les autres covariables.   \n"
   ]
  },
  {
   "cell_type": "markdown",
   "id": "27ad6df2",
   "metadata": {},
   "source": [
    "<h3 style=\"color: navy bleu\"> A. Importation du jeu de données"
   ]
  },
  {
   "cell_type": "code",
   "execution_count": 162,
   "id": "477e641c",
   "metadata": {},
   "outputs": [
    {
     "data": {
      "text/html": [
       "<div>\n",
       "<style scoped>\n",
       "    .dataframe tbody tr th:only-of-type {\n",
       "        vertical-align: middle;\n",
       "    }\n",
       "\n",
       "    .dataframe tbody tr th {\n",
       "        vertical-align: top;\n",
       "    }\n",
       "\n",
       "    .dataframe thead th {\n",
       "        text-align: right;\n",
       "    }\n",
       "</style>\n",
       "<table border=\"1\" class=\"dataframe\">\n",
       "  <thead>\n",
       "    <tr style=\"text-align: right;\">\n",
       "      <th></th>\n",
       "      <th>Pregnancies</th>\n",
       "      <th>Glucose</th>\n",
       "      <th>BloodPressure</th>\n",
       "      <th>SkinThickness</th>\n",
       "      <th>Insulin</th>\n",
       "      <th>BMI</th>\n",
       "      <th>DiabetesPedigreeFunction</th>\n",
       "      <th>Age</th>\n",
       "      <th>Outcome</th>\n",
       "    </tr>\n",
       "  </thead>\n",
       "  <tbody>\n",
       "    <tr>\n",
       "      <th>0</th>\n",
       "      <td>6</td>\n",
       "      <td>148</td>\n",
       "      <td>72</td>\n",
       "      <td>35</td>\n",
       "      <td>0</td>\n",
       "      <td>33.6</td>\n",
       "      <td>0.627</td>\n",
       "      <td>50</td>\n",
       "      <td>1</td>\n",
       "    </tr>\n",
       "    <tr>\n",
       "      <th>1</th>\n",
       "      <td>1</td>\n",
       "      <td>85</td>\n",
       "      <td>66</td>\n",
       "      <td>29</td>\n",
       "      <td>0</td>\n",
       "      <td>26.6</td>\n",
       "      <td>0.351</td>\n",
       "      <td>31</td>\n",
       "      <td>0</td>\n",
       "    </tr>\n",
       "    <tr>\n",
       "      <th>2</th>\n",
       "      <td>8</td>\n",
       "      <td>183</td>\n",
       "      <td>64</td>\n",
       "      <td>0</td>\n",
       "      <td>0</td>\n",
       "      <td>23.3</td>\n",
       "      <td>0.672</td>\n",
       "      <td>32</td>\n",
       "      <td>1</td>\n",
       "    </tr>\n",
       "    <tr>\n",
       "      <th>3</th>\n",
       "      <td>1</td>\n",
       "      <td>89</td>\n",
       "      <td>66</td>\n",
       "      <td>23</td>\n",
       "      <td>94</td>\n",
       "      <td>28.1</td>\n",
       "      <td>0.167</td>\n",
       "      <td>21</td>\n",
       "      <td>0</td>\n",
       "    </tr>\n",
       "    <tr>\n",
       "      <th>4</th>\n",
       "      <td>0</td>\n",
       "      <td>137</td>\n",
       "      <td>40</td>\n",
       "      <td>35</td>\n",
       "      <td>168</td>\n",
       "      <td>43.1</td>\n",
       "      <td>2.288</td>\n",
       "      <td>33</td>\n",
       "      <td>1</td>\n",
       "    </tr>\n",
       "    <tr>\n",
       "      <th>...</th>\n",
       "      <td>...</td>\n",
       "      <td>...</td>\n",
       "      <td>...</td>\n",
       "      <td>...</td>\n",
       "      <td>...</td>\n",
       "      <td>...</td>\n",
       "      <td>...</td>\n",
       "      <td>...</td>\n",
       "      <td>...</td>\n",
       "    </tr>\n",
       "    <tr>\n",
       "      <th>763</th>\n",
       "      <td>10</td>\n",
       "      <td>101</td>\n",
       "      <td>76</td>\n",
       "      <td>48</td>\n",
       "      <td>180</td>\n",
       "      <td>32.9</td>\n",
       "      <td>0.171</td>\n",
       "      <td>63</td>\n",
       "      <td>0</td>\n",
       "    </tr>\n",
       "    <tr>\n",
       "      <th>764</th>\n",
       "      <td>2</td>\n",
       "      <td>122</td>\n",
       "      <td>70</td>\n",
       "      <td>27</td>\n",
       "      <td>0</td>\n",
       "      <td>36.8</td>\n",
       "      <td>0.340</td>\n",
       "      <td>27</td>\n",
       "      <td>0</td>\n",
       "    </tr>\n",
       "    <tr>\n",
       "      <th>765</th>\n",
       "      <td>5</td>\n",
       "      <td>121</td>\n",
       "      <td>72</td>\n",
       "      <td>23</td>\n",
       "      <td>112</td>\n",
       "      <td>26.2</td>\n",
       "      <td>0.245</td>\n",
       "      <td>30</td>\n",
       "      <td>0</td>\n",
       "    </tr>\n",
       "    <tr>\n",
       "      <th>766</th>\n",
       "      <td>1</td>\n",
       "      <td>126</td>\n",
       "      <td>60</td>\n",
       "      <td>0</td>\n",
       "      <td>0</td>\n",
       "      <td>30.1</td>\n",
       "      <td>0.349</td>\n",
       "      <td>47</td>\n",
       "      <td>1</td>\n",
       "    </tr>\n",
       "    <tr>\n",
       "      <th>767</th>\n",
       "      <td>1</td>\n",
       "      <td>93</td>\n",
       "      <td>70</td>\n",
       "      <td>31</td>\n",
       "      <td>0</td>\n",
       "      <td>30.4</td>\n",
       "      <td>0.315</td>\n",
       "      <td>23</td>\n",
       "      <td>0</td>\n",
       "    </tr>\n",
       "  </tbody>\n",
       "</table>\n",
       "<p>768 rows × 9 columns</p>\n",
       "</div>"
      ],
      "text/plain": [
       "     Pregnancies  Glucose  BloodPressure  SkinThickness  Insulin   BMI  \\\n",
       "0              6      148             72             35        0  33.6   \n",
       "1              1       85             66             29        0  26.6   \n",
       "2              8      183             64              0        0  23.3   \n",
       "3              1       89             66             23       94  28.1   \n",
       "4              0      137             40             35      168  43.1   \n",
       "..           ...      ...            ...            ...      ...   ...   \n",
       "763           10      101             76             48      180  32.9   \n",
       "764            2      122             70             27        0  36.8   \n",
       "765            5      121             72             23      112  26.2   \n",
       "766            1      126             60              0        0  30.1   \n",
       "767            1       93             70             31        0  30.4   \n",
       "\n",
       "     DiabetesPedigreeFunction  Age  Outcome  \n",
       "0                       0.627   50        1  \n",
       "1                       0.351   31        0  \n",
       "2                       0.672   32        1  \n",
       "3                       0.167   21        0  \n",
       "4                       2.288   33        1  \n",
       "..                        ...  ...      ...  \n",
       "763                     0.171   63        0  \n",
       "764                     0.340   27        0  \n",
       "765                     0.245   30        0  \n",
       "766                     0.349   47        1  \n",
       "767                     0.315   23        0  \n",
       "\n",
       "[768 rows x 9 columns]"
      ]
     },
     "execution_count": 162,
     "metadata": {},
     "output_type": "execute_result"
    }
   ],
   "source": [
    "pima = pd.read_csv(\"diabetes.csv\")\n",
    "pima"
   ]
  },
  {
   "cell_type": "markdown",
   "id": "23996cc3",
   "metadata": {},
   "source": [
    "<h3 style=\"color: navy bleu\"> B. Création du Design et de la variable à prédire \"Outcome\" "
   ]
  },
  {
   "cell_type": "code",
   "execution_count": 163,
   "id": "7cc0e846",
   "metadata": {},
   "outputs": [],
   "source": [
    "# Extraction des classes à prédire\n",
    "Design_pima = pima.copy().drop(\"Outcome\", axis = 1)\n",
    "\n",
    "# Variable à prédire \n",
    "Y_pima = pima[\"Outcome\"]  "
   ]
  },
  {
   "cell_type": "markdown",
   "id": "66293d00",
   "metadata": {},
   "source": [
    "<h3 style=\"color: navy bleu\">  C. Application du modèle de regression logistique "
   ]
  },
  {
   "cell_type": "code",
   "execution_count": 164,
   "id": "3564968a",
   "metadata": {},
   "outputs": [
    {
     "name": "stdout",
     "output_type": "stream",
     "text": [
      "Score :  0.78125\n"
     ]
    }
   ],
   "source": [
    "# Création du modèle\n",
    "model_pima = LogisticRegression(max_iter = 300) \n",
    "\n",
    "# Apprentissage\n",
    "model_pima.fit(Design_pima, Y_pima) \n",
    "\n",
    "# Test du modèle (score) \n",
    "print(\"Score : \", model_pima.score(Design_pima,Y_pima)) \n",
    "\n",
    "# Paramètres du modèle \n",
    "intercept_pima = model_pima.intercept_\n",
    "coefs_pima = model_pima.coef_"
   ]
  },
  {
   "cell_type": "markdown",
   "id": "26887ff7",
   "metadata": {},
   "source": [
    "<h3 style=\"color: navy bleu\">  D. Application du bootstrap paramétrique  "
   ]
  },
  {
   "cell_type": "markdown",
   "id": "4fa6c0e9",
   "metadata": {},
   "source": [
    "<h4 style=\"color: navy bleu\">  D.1.Définition de la fonction logit et du $\\hat{p}$ "
   ]
  },
  {
   "cell_type": "code",
   "execution_count": 165,
   "id": "2f4af631",
   "metadata": {},
   "outputs": [],
   "source": [
    "# Logit\n",
    "def g(x): \n",
    "    return np.exp(x) / (1 + np.exp(x))\n",
    "\n",
    "# Calcul de p_hat \n",
    "p_hat = g(intercept_pima + coefs_pima.dot(Design_pima.T))[0]"
   ]
  },
  {
   "cell_type": "markdown",
   "id": "451c69da",
   "metadata": {},
   "source": [
    "<h4 style=\"color: navy bleu\">  D.2. Définition de la fonction bootstrap_para"
   ]
  },
  {
   "cell_type": "code",
   "execution_count": 166,
   "id": "3fc4e7a8",
   "metadata": {},
   "outputs": [],
   "source": [
    "def bootstrap_para(B) :\n",
    "    Coefs = []\n",
    "    Intercepts = []\n",
    "    \n",
    "    for _ in range(B) :\n",
    "        Y_pima_hat = np.random.binomial(n = 1, p = p_hat, size = len(p_hat))\n",
    "        model_pima.fit(Design_pima, Y_pima_hat)\n",
    "        Coefs.append(model_pima.coef_[0])\n",
    "        Intercepts.append(float(model_pima.intercept_))\n",
    "                                    \n",
    "    return Coefs, Intercepts\n",
    "\n",
    "vect_coef, liste_intercepts = bootstrap_para(2000) "
   ]
  },
  {
   "cell_type": "markdown",
   "id": "a9adb081",
   "metadata": {},
   "source": [
    "<h4 style=\"color: navy bleu\">  D.3 Affichage des distributions des coefficients sous forme d'histogrammes "
   ]
  },
  {
   "cell_type": "code",
   "execution_count": 187,
   "id": "fc118e29",
   "metadata": {},
   "outputs": [
    {
     "data": {
      "image/png": "[encoded data removed]",
      "text/plain": [
       "<Figure size 1800x720 with 8 Axes>"
      ]
     },
     "metadata": {
      "needs_background": "light"
     },
     "output_type": "display_data"
    }
   ],
   "source": [
    "plt.figure(figsize=(25,10))\n",
    "for j in range(len(vect_coef[0])):   # Pour chaque valeur d'un vecteur (0 à 7)\n",
    "    value_hist = []\n",
    "    for i in range(len(vect_coef)) : # On parcourt tous les vecteurs (0 à 1999) pour récupérer leur jème valeur \n",
    "        value_hist.append(vect_coef[i][j])\n",
    "    plt.subplot(2, int(len(vect_coef[0])/2), j+1)\n",
    "    plt.hist(value_hist, bins = 50)\n",
    "    plt.axvline(coefs_pima[0][j], c = 'red')\n",
    "    plt.title(f\"Coef {j}\")\n",
    "plt.show()\n"
   ]
  },
  {
   "cell_type": "markdown",
   "id": "dafe741f",
   "metadata": {},
   "source": [
    "<h4 style=\"color: navy bleu\">  D.4.Affichage des distributions des intercepts sous forme d'histogrammes "
   ]
  },
  {
   "cell_type": "code",
   "execution_count": 225,
   "id": "2d3b34c1",
   "metadata": {},
   "outputs": [
    {
     "data": {
      "image/png": "[encoded data removed]",
      "text/plain": [
       "<Figure size 432x288 with 1 Axes>"
      ]
     },
     "metadata": {
      "needs_background": "light"
     },
     "output_type": "display_data"
    }
   ],
   "source": [
    "plt.hist(liste_intercepts,bins = 50)\n",
    "plt.axvline(intercept_pima, c = 'red')\n",
    "plt.show()"
   ]
  },
  {
   "cell_type": "markdown",
   "id": "4a98c1db",
   "metadata": {},
   "source": [
    "<h4 style=\"color: navy bleu\">  D.5. Intervalles de confiance "
   ]
  },
  {
   "cell_type": "code",
   "execution_count": 169,
   "id": "4f40d093",
   "metadata": {},
   "outputs": [
    {
     "name": "stdout",
     "output_type": "stream",
     "text": [
      "Coef 0  :  [0.06965209737709388, 0.17787340147223368]\n",
      "Coef 1  :  [0.02933271648950926, 0.04194192237180139]\n",
      "Coef 2  :  [-0.022508306549741265, -0.004685580783149011]\n",
      "Coef 3  :  [-0.010315521151835608, 0.012685661206447079]\n",
      "Coef 4  :  [-0.0027088918994191374, 0.0003817371060324563]\n",
      "Coef 5  :  [0.0659197786010276, 0.11646499276362277]\n",
      "Coef 6  :  [0.36466033957379484, 1.2651130382089015]\n",
      "Coef 7  :  [-0.0011044588656050035, 0.03136629222961705]\n"
     ]
    }
   ],
   "source": [
    "quantile = norm.ppf(0.95,0,1)\n",
    "for i in range(8):\n",
    "    std1 = np.std(np.array(vect_coef)[:,i])\n",
    "    Ic_inf = np.mean(np.array(vect_coef)[:,i]) - std1 * quantile\n",
    "    Ic_sup = np.mean(np.array(vect_coef)[:,i]) + std1 * quantile\n",
    "    Ic = [Ic_inf,Ic_sup]\n",
    "    print(\"Coef\", i, \" : \", Ic)"
   ]
  },
  {
   "cell_type": "markdown",
   "id": "5d005fe2",
   "metadata": {},
   "source": [
    "Une distribution bootstrap se rapproche de la distribution d'échantillonnage de la statistique. 95 % des valeurs du milieu de la distribution bootstrap fournissent donc un intervalle de confiance à 95 % pour le paramètre.\n",
    "\n",
    "D'après les résultats, les coefs 0,1,5 et 6 sont positifs, on peut donc s'attendre à avoir une corrélation positive entre les variables explicatives associées à ces coefs et la variable à expliquer. Pour le coef 2, il est négatif. Concernant les coefs 2,3,4 et 7, on ne peut rien dire à propos de leurs signes. "
   ]
  },
  {
   "cell_type": "markdown",
   "id": "0e9fde03",
   "metadata": {},
   "source": [
    "<h2 style=\"color: navy bleu\"> IV. Etude du jeu de données \"housing\""
   ]
  },
  {
   "cell_type": "markdown",
   "id": "acc60bb3",
   "metadata": {},
   "source": [
    "Nous nous intéressons cette fois-ci aux prix des logements dans différents quartiers de Boston. La variable en question est \"MEDV\". Nous cherchons à prédire ce prix en fonction des autres covariables lstat, ptratio et rm en utilisant un modèle de régression linéaire et un algorithme de bootstrap non paramétrique. "
   ]
  },
  {
   "cell_type": "markdown",
   "id": "35c88ace",
   "metadata": {},
   "source": [
    "<h3 style=\"color: navy bleu\"> A. Importation du jeu de données housing et calcul de la matrice de corélation "
   ]
  },
  {
   "cell_type": "code",
   "execution_count": 170,
   "id": "d8703cd2",
   "metadata": {},
   "outputs": [
    {
     "data": {
      "text/html": [
       "<div>\n",
       "<style scoped>\n",
       "    .dataframe tbody tr th:only-of-type {\n",
       "        vertical-align: middle;\n",
       "    }\n",
       "\n",
       "    .dataframe tbody tr th {\n",
       "        vertical-align: top;\n",
       "    }\n",
       "\n",
       "    .dataframe thead th {\n",
       "        text-align: right;\n",
       "    }\n",
       "</style>\n",
       "<table border=\"1\" class=\"dataframe\">\n",
       "  <thead>\n",
       "    <tr style=\"text-align: right;\">\n",
       "      <th></th>\n",
       "      <th>RM</th>\n",
       "      <th>LSTAT</th>\n",
       "      <th>PTRATIO</th>\n",
       "      <th>MEDV</th>\n",
       "    </tr>\n",
       "  </thead>\n",
       "  <tbody>\n",
       "    <tr>\n",
       "      <th>1</th>\n",
       "      <td>6.421</td>\n",
       "      <td>9.14</td>\n",
       "      <td>17.8</td>\n",
       "      <td>453600.0</td>\n",
       "    </tr>\n",
       "    <tr>\n",
       "      <th>2</th>\n",
       "      <td>7.185</td>\n",
       "      <td>4.03</td>\n",
       "      <td>17.8</td>\n",
       "      <td>728700.0</td>\n",
       "    </tr>\n",
       "    <tr>\n",
       "      <th>3</th>\n",
       "      <td>6.998</td>\n",
       "      <td>2.94</td>\n",
       "      <td>18.7</td>\n",
       "      <td>701400.0</td>\n",
       "    </tr>\n",
       "    <tr>\n",
       "      <th>4</th>\n",
       "      <td>7.147</td>\n",
       "      <td>5.33</td>\n",
       "      <td>18.7</td>\n",
       "      <td>760200.0</td>\n",
       "    </tr>\n",
       "    <tr>\n",
       "      <th>5</th>\n",
       "      <td>6.430</td>\n",
       "      <td>5.21</td>\n",
       "      <td>18.7</td>\n",
       "      <td>602700.0</td>\n",
       "    </tr>\n",
       "    <tr>\n",
       "      <th>...</th>\n",
       "      <td>...</td>\n",
       "      <td>...</td>\n",
       "      <td>...</td>\n",
       "      <td>...</td>\n",
       "    </tr>\n",
       "    <tr>\n",
       "      <th>484</th>\n",
       "      <td>6.593</td>\n",
       "      <td>9.67</td>\n",
       "      <td>21.0</td>\n",
       "      <td>470400.0</td>\n",
       "    </tr>\n",
       "    <tr>\n",
       "      <th>485</th>\n",
       "      <td>6.120</td>\n",
       "      <td>9.08</td>\n",
       "      <td>21.0</td>\n",
       "      <td>432600.0</td>\n",
       "    </tr>\n",
       "    <tr>\n",
       "      <th>486</th>\n",
       "      <td>6.976</td>\n",
       "      <td>5.64</td>\n",
       "      <td>21.0</td>\n",
       "      <td>501900.0</td>\n",
       "    </tr>\n",
       "    <tr>\n",
       "      <th>487</th>\n",
       "      <td>6.794</td>\n",
       "      <td>6.48</td>\n",
       "      <td>21.0</td>\n",
       "      <td>462000.0</td>\n",
       "    </tr>\n",
       "    <tr>\n",
       "      <th>488</th>\n",
       "      <td>6.030</td>\n",
       "      <td>7.88</td>\n",
       "      <td>21.0</td>\n",
       "      <td>249900.0</td>\n",
       "    </tr>\n",
       "  </tbody>\n",
       "</table>\n",
       "<p>488 rows × 4 columns</p>\n",
       "</div>"
      ],
      "text/plain": [
       "        RM  LSTAT  PTRATIO      MEDV\n",
       "1    6.421   9.14     17.8  453600.0\n",
       "2    7.185   4.03     17.8  728700.0\n",
       "3    6.998   2.94     18.7  701400.0\n",
       "4    7.147   5.33     18.7  760200.0\n",
       "5    6.430   5.21     18.7  602700.0\n",
       "..     ...    ...      ...       ...\n",
       "484  6.593   9.67     21.0  470400.0\n",
       "485  6.120   9.08     21.0  432600.0\n",
       "486  6.976   5.64     21.0  501900.0\n",
       "487  6.794   6.48     21.0  462000.0\n",
       "488  6.030   7.88     21.0  249900.0\n",
       "\n",
       "[488 rows x 4 columns]"
      ]
     },
     "execution_count": 170,
     "metadata": {},
     "output_type": "execute_result"
    }
   ],
   "source": [
    "housing = pd.read_csv(\"housing.csv\")\n",
    "housing  = pd.DataFrame(housing,columns = ['RM' , 'LSTAT', 'PTRATIO', 'MEDV'])\n",
    "\n",
    "# Suppression de la premiere colonne d'indice \n",
    "housing = housing.drop(housing.index[0])\n",
    "housing"
   ]
  },
  {
   "cell_type": "code",
   "execution_count": 171,
   "id": "9219ac38",
   "metadata": {},
   "outputs": [
    {
     "data": {
      "text/plain": [
       "<AxesSubplot:>"
      ]
     },
     "execution_count": 171,
     "metadata": {},
     "output_type": "execute_result"
    },
    {
     "data": {
      "image/png": "[encoded data removed]",
      "text/plain": [
       "<Figure size 432x288 with 2 Axes>"
      ]
     },
     "metadata": {
      "needs_background": "light"
     },
     "output_type": "display_data"
    }
   ],
   "source": [
    "# Etude de la correlation\n",
    "correlation = housing.corr().round(2)\n",
    "sns.heatmap(data = correlation, annot=True)"
   ]
  },
  {
   "cell_type": "markdown",
   "id": "c51bc13e",
   "metadata": {},
   "source": [
    "Nous constatons que la variable MEDV est corélée positivement avec la variable RM et négativement avec les variables LSTAT et PTRATIO. Nous pouvons donc appliquer un modèle de régression linéaire. "
   ]
  },
  {
   "cell_type": "markdown",
   "id": "2d2a6862",
   "metadata": {},
   "source": [
    "<h3 style=\"color: navy bleu\"> B. Création du Design et de la variable à prédire log(MEDV)"
   ]
  },
  {
   "cell_type": "code",
   "execution_count": 172,
   "id": "201ea1de",
   "metadata": {},
   "outputs": [],
   "source": [
    "# Variable à prédire Y = log(MEDV) \n",
    "Y_housing = np.log(housing['MEDV'])\n",
    "# Design \n",
    "Design_housing = housing.drop('MEDV',1)"
   ]
  },
  {
   "cell_type": "markdown",
   "id": "447fd041",
   "metadata": {},
   "source": [
    "<h3 style=\"color: navy bleu\"> C. Application de la régression linéaire"
   ]
  },
  {
   "cell_type": "code",
   "execution_count": 173,
   "id": "e7057173",
   "metadata": {},
   "outputs": [
    {
     "name": "stdout",
     "output_type": "stream",
     "text": [
      "Les coeficients de la régression linéaire : \n",
      " [ 0.09899051 -0.03378928 -0.04032085]\n",
      "\n",
      "L'intercept de la régression linéaire : \n",
      " 13.52459914372183\n"
     ]
    },
    {
     "data": {
      "image/png": "[encoded data removed]",
      "text/plain": [
       "<Figure size 432x288 with 1 Axes>"
      ]
     },
     "metadata": {
      "needs_background": "light"
     },
     "output_type": "display_data"
    }
   ],
   "source": [
    "REG_housing = LinearRegression()\n",
    "# Entrainement du modèle \n",
    "Results = REG_housing.fit(Design_housing, Y_housing)\n",
    "\n",
    "# Coefs et intercept\n",
    "Coefs_housing = REG_housing.coef_\n",
    "Intercept_housing = REG_housing.intercept_\n",
    "\n",
    "# Affichage \n",
    "print(\"Les coeficients de la régression linéaire : \\n\", Coefs_housing)\n",
    "print(\"\\nL'intercept de la régression linéaire : \\n\", Intercept_housing)\n",
    "\n",
    "# Nuage de points de la regression \n",
    "plt.plot(Y_housing, REG_housing.predict(Design_housing),'.')\n",
    "plt.plot(Y_housing, Y_housing,'.')\n",
    "plt.show()"
   ]
  },
  {
   "cell_type": "markdown",
   "id": "1469df4d",
   "metadata": {},
   "source": [
    "Le nuage de points ci-dessus permet de voir si on a une bonne prédiction. En effet, la droite de référence est représentée en orange, dans le cas où la prédiction est de bonne qualité, le nuage de points se rapproche de la droite orange. En revanche, on remarque ici que la prédiction n'est pas parfaite notamment pour les points qui sont entre 11.5 et 12.5"
   ]
  },
  {
   "cell_type": "markdown",
   "id": "497efc6e",
   "metadata": {},
   "source": [
    "##### Calcul du $\\sigma^2$ et $\\epsilon$"
   ]
  },
  {
   "cell_type": "code",
   "execution_count": 174,
   "id": "cd4627f0",
   "metadata": {},
   "outputs": [
    {
     "name": "stdout",
     "output_type": "stream",
     "text": [
      "0.2047423190591912\n"
     ]
    }
   ],
   "source": [
    "RMSE = np.sqrt(((Y_housing - REG_housing.predict(Design_housing))**2).sum()/len(Y_housing))\n",
    "print(RMSE)\n",
    "\n",
    "Epsilon = Y_housing - Intercept_housing - Coefs_housing.dot(Design_housing.T)"
   ]
  },
  {
   "cell_type": "markdown",
   "id": "9b43e60b",
   "metadata": {},
   "source": [
    "#### Hypothèse paramétrique"
   ]
  },
  {
   "cell_type": "markdown",
   "id": "f0fbcfc9",
   "metadata": {},
   "source": [
    "Nous rappelons que le test de nullité des paramètres du modèle est définit par : \n",
    "$$H_0 : \\beta_j = 0 \\quad  \\forall j $$\n",
    "\n",
    "Avec $\\beta_j$ est le paramètre associé à la variable explicative $X^j$. \n",
    "\n",
    "Sous l'hypothèse alternative, au moins un des paramètres est non nul."
   ]
  },
  {
   "cell_type": "markdown",
   "id": "1ad680ce",
   "metadata": {},
   "source": [
    "On définit l'intervalle de confiance ainsi : \n",
    "\n",
    "$$\\theta \\in \\left[\\hat{\\theta} - sd * \\Phi^{-1}(1-\\frac{\\alpha}{2}), \\hat{\\theta} +sd * \\Phi^{-1}(1-\\frac{\\alpha}{2})\\right] $$\n",
    "\n",
    "Avec sd est l'erreur standard et $\\Phi^{-1}(1-\\frac{\\alpha}{2})$ est le quantile d'ordre $1-\\frac{\\alpha}{2}$ de la loi normale centrée réduite.\n",
    "\n",
    "On suppose donc que la distribution de $\\hat{θ}$ n'est pas éloignée d'une distribution gaussienne. Ce qui est souvent vrai lorsque n est grand. "
   ]
  },
  {
   "cell_type": "markdown",
   "id": "81168852",
   "metadata": {},
   "source": [
    "<h3 style=\"color: navy bleu\"> D. Application du bootstrap non paramétrique  "
   ]
  },
  {
   "cell_type": "markdown",
   "id": "c4c16c44",
   "metadata": {},
   "source": [
    "Une façon de faire du bootstrap non paramétrique est de faire un réechantillonage avec remise des résidus ou de la matrice de design. "
   ]
  },
  {
   "cell_type": "markdown",
   "id": "40aafa73",
   "metadata": {},
   "source": [
    "<h4 style=\"color: navy bleu\"> D.1. Réechantillonage des résidus $\\epsilon$"
   ]
  },
  {
   "cell_type": "code",
   "execution_count": 175,
   "id": "410f7b63",
   "metadata": {},
   "outputs": [],
   "source": [
    "def bootstrap_non_para_epsilon(B) :\n",
    "    Coefs = []\n",
    "    Intercepts = []\n",
    "    \n",
    "    for _ in range(B) :\n",
    "        Epsilon_star = np.random.normal(0, RMSE**2, len(Epsilon))\n",
    "        Y_housing_hat = Intercept_housing + Coefs_housing.dot(Design_housing.T) + Epsilon_star\n",
    "        REG_housing.fit(Design_housing, Y_housing_hat)\n",
    "        Coefs.append(REG_housing.coef_)\n",
    "        Intercepts.append(float(REG_housing.intercept_))\n",
    "                                    \n",
    "    return Coefs, Intercepts\n",
    "\n",
    "Coefs_h_epsilon, Intercepts_h_epsilon = bootstrap_non_para_epsilon(2000)"
   ]
  },
  {
   "cell_type": "markdown",
   "id": "4b735af8",
   "metadata": {},
   "source": [
    "<h4 style=\"color: navy bleu\">D.1.1. Représentation des distributions des intercepts "
   ]
  },
  {
   "cell_type": "code",
   "execution_count": 226,
   "id": "ea10b647",
   "metadata": {},
   "outputs": [
    {
     "data": {
      "image/png": "[encoded data removed]",
      "text/plain": [
       "<Figure size 432x288 with 1 Axes>"
      ]
     },
     "metadata": {
      "needs_background": "light"
     },
     "output_type": "display_data"
    }
   ],
   "source": [
    "plt.hist(Intercepts_h_epsilon,bins = 50)\n",
    "plt.axvline(Intercept_housing, c = 'red')\n",
    "plt.show()"
   ]
  },
  {
   "cell_type": "markdown",
   "id": "305546f3",
   "metadata": {},
   "source": [
    "<h4 style=\"color: navy bleu\">D.1.2. Représentation des distributions des coefficients "
   ]
  },
  {
   "cell_type": "code",
   "execution_count": 227,
   "id": "a2df7832",
   "metadata": {},
   "outputs": [
    {
     "data": {
      "image/png": "[encoded data removed]",
      "text/plain": [
       "<Figure size 1440x360 with 3 Axes>"
      ]
     },
     "metadata": {
      "needs_background": "light"
     },
     "output_type": "display_data"
    }
   ],
   "source": [
    "plt.figure(figsize=(20,5))\n",
    "for j in range(len(Coefs_h[0])): # Pour chaque valeur d'un vecteur (0 à 7), on fait\n",
    "    value_hist = []\n",
    "    for i in range(len(Coefs_h_epsilon)) : # On parcourt tous les vecteurs (0 à 1999) pour récupérer leur jème valeur \n",
    "        value_hist.append(Coefs_h_epsilon[i][j])\n",
    "    plt.subplot(1, len(Coefs_h_epsilon[0]), j+1)\n",
    "    plt.hist(value_hist, bins = 50)\n",
    "    plt.axvline(Coefs_housing[j], c = 'red')\n",
    "    plt.title(f\"Coef {j}\")\n",
    "plt.show()\n",
    "    "
   ]
  },
  {
   "cell_type": "markdown",
   "id": "b8a0f967",
   "metadata": {},
   "source": [
    "<h4 style=\"color: navy bleu\">D.1.3. Intervalles de confiance "
   ]
  },
  {
   "cell_type": "code",
   "execution_count": 222,
   "id": "4a5e951e",
   "metadata": {},
   "outputs": [
    {
     "name": "stdout",
     "output_type": "stream",
     "text": [
      "Coef 0  :  [0.09191256357280253, 0.10631143242256558]\n",
      "Coef 1  :  [-0.03446061003975547, -0.03310366319846161]\n",
      "Coef 2  :  [-0.04225263526406827, -0.03836672639842815]\n"
     ]
    }
   ],
   "source": [
    "Ic_epsilon = []\n",
    "quantile = norm.ppf(0.975,0,1)\n",
    "for i in range(3):\n",
    "    std3= np.std(np.array(Coefs_h_epsilon)[:,i])\n",
    "    Ic_inf = np.mean(np.array(Coefs_h_epsilon)[:,i]) - std3 * quantile\n",
    "    Ic_sup = np.mean(np.array(Coefs_h_epsilon)[:,i]) + std3 * quantile\n",
    "    Ic_epsilon.append([Ic_inf,Ic_sup])\n",
    "    print(\"Coef\", i, \" : \", Ic_epsilon[-1])"
   ]
  },
  {
   "cell_type": "markdown",
   "id": "41c2e876",
   "metadata": {},
   "source": [
    "Les résultats montrent qu'à 95% de confiance, le coef 0 est positif et compris entre 0.09 et 0.10 et les deux autres coefs sont négatifs. "
   ]
  },
  {
   "cell_type": "markdown",
   "id": "5373a02c",
   "metadata": {},
   "source": [
    "<h4 style=\"color: navy bleu\">D.2.  Réechantillonage des observations  "
   ]
  },
  {
   "cell_type": "code",
   "execution_count": 192,
   "id": "7b49a541",
   "metadata": {},
   "outputs": [],
   "source": [
    "def bootstrap_non_para_obs(B) :\n",
    "    coefs = []\n",
    "    intercepts = []\n",
    "    for _ in range(B) :\n",
    "        sample = housing.sample(n = len(housing.index), replace = True)\n",
    "        # Variable à prédire Y = log(MEDV) \n",
    "        Y_housing = np.log(sample['MEDV'])\n",
    "        # Design \n",
    "        Design_housing = sample.drop('MEDV',1)\n",
    "        \n",
    "        REG_housing.fit(Design_housing, Y_housing)\n",
    "\n",
    "        coefs.append(REG_housing.coef_)\n",
    "        intercepts.append(float(REG_housing.intercept_))\n",
    "                                    \n",
    "    \n",
    "        coefs.append(REG_housing.coef_)\n",
    "        intercepts.append(REG_housing.intercept_)\n",
    "    return coefs, intercepts\n",
    "    \n",
    "\n",
    "Coefs_h_obs, Intercepts_h_obs = bootstrap_non_para_obs(2000)"
   ]
  },
  {
   "cell_type": "markdown",
   "id": "50c6e346",
   "metadata": {},
   "source": [
    "<h4 style=\"color: navy bleu\">D.2.1. Représentation des distributions des intercepts "
   ]
  },
  {
   "cell_type": "code",
   "execution_count": 228,
   "id": "2994fc4f",
   "metadata": {},
   "outputs": [
    {
     "data": {
      "image/png": "[encoded data removed]",
      "text/plain": [
       "<Figure size 432x288 with 1 Axes>"
      ]
     },
     "metadata": {
      "needs_background": "light"
     },
     "output_type": "display_data"
    }
   ],
   "source": [
    "plt.hist(Intercepts_h_obs, bins = 50)\n",
    "plt.axvline(Intercept_housing, c = 'red')\n",
    "plt.show()"
   ]
  },
  {
   "cell_type": "markdown",
   "id": "ae827919",
   "metadata": {},
   "source": [
    "<h4 style=\"color: navy bleu\">D.2.2. Représentation des distributions des coefficients"
   ]
  },
  {
   "cell_type": "code",
   "execution_count": 230,
   "id": "80e0a198",
   "metadata": {},
   "outputs": [
    {
     "data": {
      "image/png": "[encoded data removed]",
      "text/plain": [
       "<Figure size 1440x360 with 3 Axes>"
      ]
     },
     "metadata": {
      "needs_background": "light"
     },
     "output_type": "display_data"
    }
   ],
   "source": [
    "plt.figure(figsize=(20,5))\n",
    "for j in range(len(Coefs_h_obs[0])):\n",
    "    value_hist_obs = []\n",
    "    for i in range(len(Coefs_h_obs)) : \n",
    "        value_hist_obs.append(Coefs_h_obs[i][j])\n",
    "    plt.subplot(1, len(Coefs_h_obs[0]), j+1)\n",
    "    plt.hist(value_hist_obs,bins = 50)\n",
    "    plt.axvline(Coefs_housing[j], c = 'red')\n",
    "    plt.title(f\"Coef {j}\")\n",
    "    \n",
    "plt.show()"
   ]
  },
  {
   "cell_type": "markdown",
   "id": "5fb8306a",
   "metadata": {},
   "source": [
    "<h4 style=\"color: navy bleu\">D.2.3. Intervalles de confiance "
   ]
  },
  {
   "cell_type": "code",
   "execution_count": 220,
   "id": "89334702",
   "metadata": {},
   "outputs": [
    {
     "name": "stdout",
     "output_type": "stream",
     "text": [
      "Coef 0  :  [0.053292154756876486, 0.1468033204139608]\n",
      "Coef 1  :  [-0.03861631523659617, -0.028978087268569985]\n",
      "Coef 2  :  [-0.0483558126324251, -0.03194421797124559]\n"
     ]
    }
   ],
   "source": [
    "Ic_obs = []\n",
    "quantile = norm.ppf(0.975,0,1)\n",
    "for i in range(3):\n",
    "    std2= np.std(np.array(Coefs_h_obs)[:,i])\n",
    "    Ic_inf = np.mean(np.array(Coefs_h_obs)[:,i]) - std2 * quantile\n",
    "    Ic_sup = np.mean(np.array(Coefs_h_obs)[:,i]) + std2 * quantile\n",
    "    Ic_obs.append([Ic_inf,Ic_sup])\n",
    "    print(\"Coef\", i, \" : \", Ic_obs[-1])"
   ]
  },
  {
   "cell_type": "markdown",
   "id": "3f5ba1f0",
   "metadata": {},
   "source": [
    "<h4 style=\"color: navy bleu\">D.2.4. Comaparaison entre les deux méthodes "
   ]
  },
  {
   "cell_type": "code",
   "execution_count": 223,
   "id": "ca5b9586",
   "metadata": {},
   "outputs": [
    {
     "name": "stdout",
     "output_type": "stream",
     "text": [
      "0.09351116565708431 > 0.014398868849763047\n",
      "0.009638227968026186 > 0.0013569468412938657\n",
      "0.016411594661179515 > 0.0038859088656401225\n"
     ]
    }
   ],
   "source": [
    "for i in range(len(Ic_obs)):\n",
    "    print(np.abs(Ic_obs[i][0] - Ic_obs[i][1]), \">\", np.abs(Ic_epsilon[i][0] - Ic_epsilon[i][1]))\n"
   ]
  },
  {
   "cell_type": "markdown",
   "id": "1dbb7ed6",
   "metadata": {},
   "source": [
    "On rappelle que les valeurs de gauches sont les longueurs des intervalles de confiance basés sur le ré-échantillonnage des observations et les valeurs de droite, se sont les longueurs des Ic basés sur ré-échantillonnage des résidus. "
   ]
  },
  {
   "cell_type": "markdown",
   "id": "8de45ab4",
   "metadata": {},
   "source": [
    "D'après les résultats, les intervalles de confiance basés sur le ré-échantillonnage des résidus tendent à être moins larges que ceux basés sur un ré-échantillonnage des observations. Toutefois, la validité de cette approche requiert que certains critères soient respectés. Les valeurs des prédicteurs doivent être fixes (ce qui est souvent le cas pour un dispositif expérimental) et le modèle de régression doit bien représenter la relation entre les prédicteurs et la réponse. Les résidus n’ont pas besoin de suivre une distribution particulière comme la loi normale, mais ils doivent être indépendants et suivre la même distribution. En particulier, les résidus ne peuvent pas être ré-échantillonnés si leur variance n’est pas homogène. "
   ]
  }
 ],
 "metadata": {
  "kernelspec": {
   "display_name": "Python 3",
   "language": "python",
   "name": "python3"
  },
  "language_info": {
   "codemirror_mode": {
    "name": "ipython",
    "version": 3
   },
   "file_extension": ".py",
   "mimetype": "text/x-python",
   "name": "python",
   "nbconvert_exporter": "python",
   "pygments_lexer": "ipython3",
   "version": "3.8.8"
  }
 },
 "nbformat": 4,
 "nbformat_minor": 5
}
